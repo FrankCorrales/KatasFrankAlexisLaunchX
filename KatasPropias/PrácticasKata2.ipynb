{
 "cells": [
  {
   "cell_type": "code",
   "execution_count": 1,
   "metadata": {},
   "outputs": [
    {
     "name": "stdout",
     "output_type": "stream",
     "text": [
      "2022-02-20 20:25:06.077863\n",
      "2022-03-27 10:25:06.077863\n"
     ]
    }
   ],
   "source": [
    "  from datetime import *\n",
    "  from dateutil.relativedelta import *\n",
    "  now = datetime.now()\n",
    "  print(now); now = now + relativedelta(months=1, weeks=1, hour=10);print(now)\n"
   ]
  }
 ],
 "metadata": {
  "interpreter": {
   "hash": "c8a9ef543f9e06baa0f687eec7a9e0ab3759722b70b5643f0f6ab2f506fb8755"
  },
  "kernelspec": {
   "display_name": "Python 3.8.5 ('base')",
   "language": "python",
   "name": "python3"
  },
  "language_info": {
   "codemirror_mode": {
    "name": "ipython",
    "version": 3
   },
   "file_extension": ".py",
   "mimetype": "text/x-python",
   "name": "python",
   "nbconvert_exporter": "python",
   "pygments_lexer": "ipython3",
   "version": "3.8.5"
  },
  "orig_nbformat": 4
 },
 "nbformat": 4,
 "nbformat_minor": 2
}
